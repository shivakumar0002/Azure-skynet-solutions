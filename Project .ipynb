{
 "cells": [
  {
   "cell_type": "markdown",
   "metadata": {
    "_cell_guid": "4e1a76af-93db-f2b8-b0e7-17b6cc8a9613",
    "_uuid": "2a273dd1f14303ae427e6dd7036c944e8c91ec3a"
   },
   "source": [
    "# ----------\n",
    "\n",
    "\n",
    "**Titanic - Data Analysis + RF Prediction 0.81818**\n",
    "==============================\n",
    "\n",
    "**1. Package, Loading and Check Data**\n",
    "---------------------------------\n",
    "**2. Exploratory Analysis**\n",
    "-----------------------\n",
    "\n",
    "2.1. Age\n",
    "\n",
    "2.2. Sex\n",
    "\n",
    "2.3. Age vs Sex\n",
    "\n",
    "2.4. Pclass vs Sex\n",
    "\n",
    "2.5. Pclass vs Sex vs Age\n",
    "\n",
    "2.6. Fare vs Pclass\n",
    "**3. Data Processing and Exploratory Analysis 2**\n",
    "---------------------------------------------\n",
    "3.1. New Variable : Title (From Name)\n",
    "\n",
    "3.2. New Variable : Family Size (From Name, SibSp and Parch)\n",
    "\n",
    "3.3. Processing Embarked (Replace missing values by most common value = S)\n",
    "\n",
    "3.4. Processing Fare (Replace missing value by Pclass = 3 's median)\n",
    "\n",
    "3.5. Processing Age (Replace missing values by Title's median)\n",
    "\n",
    "3.6. New Variable : Child (From Age)\n",
    "\n",
    "3.7. Correlogram Matrix\n",
    "**4. Modeling with Random Forest**\n",
    "------------------------------\n",
    "4.1. Modeling full_mod[1 : 891]\n",
    "\n",
    "4.2. Confusion Matrix\n",
    "**5. Prediction**\n",
    "-------------\n",
    "5.1. Prediction .csv\n",
    "\n",
    "5.2. OOB Error and Gini\n",
    "**6. Accuracy**\n",
    "-------------\n",
    "\n",
    "RF_MODEL : 0.8282828 full_mod[1:891]\n",
    "\n",
    "RF_MODEL_TEST : **0.8181818** full_mod[892:1309] - **PUBLIC SCORE**\n",
    "\n",
    "\n",
    "\n",
    "\n",
    "------\n",
    "\n",
    "\n",
    "  [1]: https://www.linkedin.com/pulse/machine-learning-obtenir-081818-au-challenge-kaggle-vincent-lugat"
   ]
  },
  {
   "cell_type": "markdown",
   "metadata": {
    "_cell_guid": "59980b77-0bcf-4d90-c64a-663ef7cd2e10",
    "_uuid": "ebaa88fc6c498c92865386b3a2fa3a1cbc38e740"
   },
   "source": [
    "**1. Package, Loading and Check Data**\n",
    "----------------------------------"
   ]
  },
  {
   "cell_type": "code",
   "execution_count": 1,
   "metadata": {
    "_cell_guid": "a2e54742-595c-2a08-bb91-e6b3ab329023",
    "_uuid": "0bdb2fe7fcef997bd22f0ceea94d5b244df652e9",
    "execution": {
     "iopub.execute_input": "2021-11-11T10:01:33.362579Z",
     "iopub.status.busy": "2021-11-11T10:01:33.359991Z",
     "iopub.status.idle": "2021-11-11T10:01:34.637677Z"
    }
   },
   "outputs": [],
   "source": [
    "#_____________________________Package + Data___________________________________\n",
    "#______________________________________________________________________________\n",
    "\n",
    "# Package\n",
    "suppressMessages(library('ggplot2'))\n",
    "suppressMessages(library('ggthemes')) \n",
    "suppressMessages(library('scales')) \n",
    "suppressMessages(library('dplyr'))\n",
    "suppressMessages(library('randomForest'))\n",
    "suppressMessages(library('corrplot'))\n",
    "suppressMessages(library('plyr'))\n",
    "\n",
    "#Loading Data\n",
    "\n",
    "train <- read.csv('../input/train.csv', stringsAsFactors = F)\n",
    "test  <- read.csv('../input/test.csv', stringsAsFactors = F)\n",
    "\n",
    "full  <- bind_rows(train, test) # test + train\n",
    "\n",
    "options( warn = -1 )"
   ]
  },
  {
   "cell_type": "code",
   "execution_count": 2,
   "metadata": {
    "_cell_guid": "b4077252-0676-e598-4098-bfcf7173693b",
    "_uuid": "75751ebbf8825577c35cbd8792c69d020e4f3164",
    "execution": {
     "iopub.execute_input": "2021-11-11T10:01:34.666316Z",
     "iopub.status.busy": "2021-11-11T10:01:34.640057Z",
     "iopub.status.idle": "2021-11-11T10:01:34.693621Z"
    }
   },
   "outputs": [],
   "source": [
    "str(full)"
   ]
  },
  {
   "cell_type": "code",
   "execution_count": 3,
   "metadata": {
    "_cell_guid": "2282251e-02ef-e616-7721-51518a07883c",
    "_uuid": "1d5e53a76953ff81677cc28d314f6b6cda0f8b83",
    "execution": {
     "iopub.execute_input": "2021-11-11T10:01:34.697526Z",
     "iopub.status.busy": "2021-11-11T10:01:34.696095Z",
     "iopub.status.idle": "2021-11-11T10:01:34.719460Z"
    }
   },
   "outputs": [],
   "source": [
    "summary(full)"
   ]
  },
  {
   "cell_type": "markdown",
   "metadata": {
    "_cell_guid": "49875882-2351-a3ee-b105-57f9d44c035a",
    "_uuid": "f70b1928d7650cf9fb95f538aafb6e6b7eff82c2"
   },
   "source": [
    "**2. Exploratory Analysis**\n",
    "-----------------------"
   ]
  },
  {
   "cell_type": "markdown",
   "metadata": {
    "_cell_guid": "c49caec0-e66c-96bf-691e-9be4caa04f87",
    "_uuid": "0459c10b80a718ad80a303d526d98ad6ffdb1042"
   },
   "source": [
    " - Missing value : (part 3)\n",
    "   - Age : 263 \n",
    "   - Fare : 1  \n",
    "   - Embarked : 2\n",
    "   - Cabin : too many"
   ]
  },
  {
   "cell_type": "markdown",
   "metadata": {
    "_cell_guid": "d0676ce8-c7b8-9f04-138d-e0c546323953",
    "_uuid": "b6960a5c5d2c33bf9d96a67b84167129e97a1f6c"
   },
   "source": [
    "**2.1. Age**"
   ]
  },
  {
   "cell_type": "code",
   "execution_count": 4,
   "metadata": {
    "_cell_guid": "280455a5-ad1f-5eab-9582-867c45e5bbbb",
    "_uuid": "596785d3dbd5c92ee3c5eb1eb2bcf9e0b632a2b3",
    "execution": {
     "iopub.execute_input": "2021-11-11T10:01:34.723339Z",
     "iopub.status.busy": "2021-11-11T10:01:34.721787Z",
     "iopub.status.idle": "2021-11-11T10:01:36.120593Z"
    }
   },
   "outputs": [],
   "source": [
    "#______________________________________________________________________________\n",
    "#_____________________________Exploratory Analysis_____________________________\n",
    "#______________________________________________________________________________\n",
    "\n",
    "# Age vs Survived\n",
    "ggplot(full[1:891,], aes(Age, fill = factor(Survived))) + \n",
    "  geom_histogram(bins=30) + \n",
    "  theme_few() +\n",
    "  xlab(\"Age\") +\n",
    "  scale_fill_discrete(name = \"Survived\") + \n",
    "  ggtitle(\"Age vs Survived\")"
   ]
  },
  {
   "cell_type": "markdown",
   "metadata": {
    "_cell_guid": "2e6585e6-913e-0fca-9449-d71a98b0c1f9",
    "_uuid": "b08c67cde6730da79178550ab77f835ea4e124ec"
   },
   "source": [
    "**2.2. Sex**"
   ]
  },
  {
   "cell_type": "code",
   "execution_count": 5,
   "metadata": {
    "_cell_guid": "271c4ee3-199d-7982-1a21-d190f9f2ead7",
    "_uuid": "54e1adaa15171e7e34cbc650b9958e7cd55d2780",
    "execution": {
     "iopub.execute_input": "2021-11-11T10:01:36.125381Z",
     "iopub.status.busy": "2021-11-11T10:01:36.123411Z",
     "iopub.status.idle": "2021-11-11T10:01:37.334703Z"
    }
   },
   "outputs": [],
   "source": [
    "# Sex vs Survived\n",
    "ggplot(full[1:891,], aes(Sex, fill = factor(Survived))) + \n",
    "  geom_bar(stat = \"count\", position = 'dodge')+\n",
    "  theme_few() +\n",
    "  xlab(\"Sex\") +\n",
    "  ylab(\"Count\") +\n",
    "  scale_fill_discrete(name = \"Survived\") + \n",
    "  ggtitle(\"Sex vs Survived\")"
   ]
  },
  {
   "cell_type": "markdown",
   "metadata": {
    "_cell_guid": "e89930ae-76fa-148c-9d5a-dfcfc77b45f7",
    "_uuid": "072bf836ebbaaf8f215221d43d89126183a15158"
   },
   "source": [
    "**2.3. Age vs Sex**"
   ]
  },
  {
   "cell_type": "code",
   "execution_count": 6,
   "metadata": {
    "_cell_guid": "fe138cd2-ab4b-3329-f597-8931f9f181cd",
    "_uuid": "34125829afccf5784be5bc9b7df3d08626d05dfe",
    "execution": {
     "iopub.execute_input": "2021-11-11T10:01:37.338034Z",
     "iopub.status.busy": "2021-11-11T10:01:37.336551Z",
     "iopub.status.idle": "2021-11-11T10:01:38.036245Z"
    }
   },
   "outputs": [],
   "source": [
    "#Sex vs Survived vs Age \n",
    "ggplot(full[1:891,], aes(Age, fill = factor(Survived))) + \n",
    "  geom_histogram(bins=30) + \n",
    "  theme_few() +\n",
    "  xlab(\"Age\") +\n",
    "  ylab(\"Count\") +\n",
    "  facet_grid(.~Sex)+\n",
    "  scale_fill_discrete(name = \"Survived\") + \n",
    "  theme_few()+\n",
    "  ggtitle(\"Age vs Sex vs Survived\")"
   ]
  },
  {
   "cell_type": "markdown",
   "metadata": {
    "_cell_guid": "d4ef6267-5003-55dd-b32d-acfea2172727",
    "_uuid": "7fa3b1188e66d947857f43eec9ed2c13ed08607d"
   },
   "source": [
    "**2.4. Pclass vs Sex**"
   ]
  },
  {
   "cell_type": "code",
   "execution_count": 7,
   "metadata": {
    "_cell_guid": "95d21867-7cde-008f-b57e-e235d40c200c",
    "_uuid": "139b74a6f2bfdd63fcab1ed47b6061575bae2fe4",
    "execution": {
     "iopub.execute_input": "2021-11-11T10:01:38.040630Z",
     "iopub.status.busy": "2021-11-11T10:01:38.038406Z",
     "iopub.status.idle": "2021-11-11T10:01:38.796027Z"
    }
   },
   "outputs": [],
   "source": [
    "# Pclass vs Survived\n",
    "ggplot(full[1:891,], aes(Pclass, fill = factor(Survived))) + \n",
    "  geom_bar(stat = \"count\")+\n",
    "  theme_few() +\n",
    "  xlab(\"Pclass\") +\n",
    "  facet_grid(.~Sex)+\n",
    "  ylab(\"Count\") +\n",
    "  scale_fill_discrete(name = \"Survived\") + \n",
    "  ggtitle(\"Pclass vs Sex vs Survived\")"
   ]
  },
  {
   "cell_type": "markdown",
   "metadata": {
    "_cell_guid": "f559a751-f378-d33d-e8b4-49d1191b0d59",
    "_uuid": "6ecb0626650a94530f8cc0dd2089474f03af26d6"
   },
   "source": [
    "**2.5. Pclass vs Sex vs Age**"
   ]
  },
  {
   "cell_type": "code",
   "execution_count": 8,
   "metadata": {
    "_cell_guid": "d465f30c-5115-a081-d973-1dd804f4dcc8",
    "_uuid": "493096b2a052e8d033c11c0588f5f93e0719c7bf",
    "execution": {
     "iopub.execute_input": "2021-11-11T10:01:38.800946Z",
     "iopub.status.busy": "2021-11-11T10:01:38.798731Z",
     "iopub.status.idle": "2021-11-11T10:01:39.450544Z"
    }
   },
   "outputs": [],
   "source": [
    "ggplot(full[1:891,], aes(x = Age, y = Sex)) + \n",
    "  geom_jitter(aes(colour = factor(Survived))) + \n",
    "  theme_few()+\n",
    "  theme(legend.title = element_blank())+\n",
    "  facet_wrap(~Pclass) + \n",
    "  labs(x = \"Age\", y = \"Sex\", title = \"Pclass vs Sex vs Age vs Survived\")+\n",
    "  scale_fill_discrete(name = \"Survived\") + \n",
    "  scale_x_continuous(name=\"Age\",limits=c(0, 81))"
   ]
  },
  {
   "cell_type": "markdown",
   "metadata": {
    "_cell_guid": "747102fd-4eac-b3fe-9832-bf5a78d77b09",
    "_uuid": "f231f9f4053a260102f7ef3ee9a3e56886a20564"
   },
   "source": [
    "**2.6. Fare vs Pclass **"
   ]
  },
  {
   "cell_type": "code",
   "execution_count": 9,
   "metadata": {
    "_cell_guid": "d97dbca3-81b3-1a8b-8b93-93ca7046e75c",
    "_uuid": "d958afd960d0b0aeedf28401f7d94d326e29109a",
    "execution": {
     "iopub.execute_input": "2021-11-11T10:01:39.454531Z",
     "iopub.status.busy": "2021-11-11T10:01:39.453255Z",
     "iopub.status.idle": "2021-11-11T10:01:39.880572Z"
    }
   },
   "outputs": [],
   "source": [
    "#Fare\n",
    "ggplot(full[1:891,], aes(x = Fare, y = Pclass)) + \n",
    "  geom_jitter(aes(colour = factor(Survived))) + \n",
    "  theme_few()+\n",
    "  theme(legend.title = element_blank())+\n",
    "  labs(x = \"Age\", y = \"Pclass\", title = \"Fare vs Pclass\")+\n",
    "  scale_fill_discrete(name = \"Survived\") + \n",
    "  scale_x_continuous(name=\"Fare\", limits=c(0, 270), breaks=c(0, 40, 80, 120, 160, 200, 240, 280))"
   ]
  },
  {
   "cell_type": "markdown",
   "metadata": {
    "_cell_guid": "0fc7972a-e2b3-46d4-55e9-e19a6445cff8",
    "_uuid": "d7603b97ceed3ae1d8e2314927ba83ce86aa5ded"
   },
   "source": [
    "**3. Data Processing and Exploratory Analysis 2**\n",
    "---------------------------------------------"
   ]
  },
  {
   "cell_type": "markdown",
   "metadata": {
    "_cell_guid": "f7b2df21-b53a-64f9-efe9-02f657c1c6ba",
    "_uuid": "52140152ba591f8d8174254ef2f9621b9cc30b59"
   },
   "source": [
    "**3.1. New Variable : Title** (From Name)"
   ]
  },
  {
   "cell_type": "code",
   "execution_count": 10,
   "metadata": {
    "_cell_guid": "203d4a08-545a-4954-d0f1-cad1e5cb573a",
    "_uuid": "ecf0712815d1c76edeffcb2427ebb08637143d0d",
    "execution": {
     "iopub.execute_input": "2021-11-11T10:01:39.883854Z",
     "iopub.status.busy": "2021-11-11T10:01:39.882688Z",
     "iopub.status.idle": "2021-11-11T10:01:39.901473Z"
    }
   },
   "outputs": [],
   "source": [
    "#______________________________________________________________________________\n",
    "#______________________Data processing and ___________________________________\n",
    "#_________________________exploratory analysis 2______________________________\n",
    "\n",
    "#__________________________________Title_______________________________________\n",
    "# Extract titles\n",
    "full$Title <- gsub('(.*, )|(\\\\..*)', '', full$Name)\n",
    "\n",
    "# Titles by Sex\n",
    "table(full$Sex, full$Title)"
   ]
  },
  {
   "cell_type": "code",
   "execution_count": 11,
   "metadata": {
    "_cell_guid": "a784a2b1-c31e-6652-dcbb-289f0d73ac4a",
    "_uuid": "472ae01a5132bc624579104335f62c864548e2fc",
    "execution": {
     "iopub.execute_input": "2021-11-11T10:01:39.905326Z",
     "iopub.status.busy": "2021-11-11T10:01:39.903833Z",
     "iopub.status.idle": "2021-11-11T10:01:39.947489Z"
    }
   },
   "outputs": [],
   "source": [
    "# Reassign rare titles\n",
    "officer <- c('Capt', 'Col', 'Don', 'Dr', 'Major', 'Rev')\n",
    "royalty <- c('Dona', 'Lady', 'the Countess','Sir', 'Jonkheer')\n",
    "\n",
    "# Reassign mlle, ms, and mme, and rare\n",
    "full$Title[full$Title == 'Mlle']        <- 'Miss' \n",
    "full$Title[full$Title == 'Ms']          <- 'Miss'\n",
    "full$Title[full$Title == 'Mme']         <- 'Mrs' \n",
    "full$Title[full$Title %in% royalty]  <- 'Royalty'\n",
    "full$Title[full$Title %in% officer]  <- 'Officer'\n",
    "\n",
    "full$Surname <- sapply(full$Name,  \n",
    "                       function(x) strsplit(x, split = '[,.]')[[1]][1])"
   ]
  },
  {
   "cell_type": "code",
   "execution_count": 12,
   "metadata": {
    "_cell_guid": "c4006ad9-43ce-d630-d5ce-ebe28bc0bb79",
    "_uuid": "9ba04b1a41aab594844141fc9b157b1fa672e743",
    "execution": {
     "iopub.execute_input": "2021-11-11T10:01:39.951301Z",
     "iopub.status.busy": "2021-11-11T10:01:39.949754Z",
     "iopub.status.idle": "2021-11-11T10:01:40.363757Z"
    }
   },
   "outputs": [],
   "source": [
    "#graph title\n",
    "ggplot(full[1:891,], aes(Title,fill = factor(Survived))) +\n",
    "  geom_bar(stat = \"count\")+\n",
    "  xlab('Title') +\n",
    "  ylab(\"Count\") +\n",
    "  scale_fill_discrete(name = \" Survived\") + \n",
    "  ggtitle(\"Title vs Survived\")+\n",
    "  theme_few()"
   ]
  },
  {
   "cell_type": "markdown",
   "metadata": {
    "_cell_guid": "0ae188a3-af51-c964-db5c-a4e842ecfd15",
    "_uuid": "e784282a22c467569493ae157a0da08619d575f6"
   },
   "source": [
    "**3.2. New Variable : Family Size** (From Name, SibSp and Parch)"
   ]
  },
  {
   "cell_type": "code",
   "execution_count": 13,
   "metadata": {
    "_cell_guid": "918e229e-3e5d-0116-5399-c5fbe306748b",
    "_uuid": "a0f79b8f113dbcb76508f50943978e0ca2510209",
    "execution": {
     "iopub.execute_input": "2021-11-11T10:01:40.366797Z",
     "iopub.status.busy": "2021-11-11T10:01:40.365372Z",
     "iopub.status.idle": "2021-11-11T10:01:40.841591Z"
    }
   },
   "outputs": [],
   "source": [
    "#____________________________Family Size________________________________\n",
    "\n",
    "#Family\n",
    "# Family Size\n",
    "full$Fsize <- full$SibSp + full$Parch + 1\n",
    "\n",
    "ggplot(full[1:891,], aes(x = Fsize, fill = factor(Survived))) +\n",
    "  geom_bar(stat='count', position='dodge') +\n",
    "  scale_x_continuous(breaks=c(1:11)) +\n",
    "  xlab('Family Size') +\n",
    "  ylab(\"Count\") +\n",
    "  theme_few()+\n",
    "  scale_fill_discrete(name = \"Survived\") + \n",
    "  ggtitle(\"Family Size vs Survived\")"
   ]
  },
  {
   "cell_type": "code",
   "execution_count": 14,
   "metadata": {
    "_cell_guid": "ca0a9ac2-71e1-119e-9205-f63415503231",
    "_uuid": "02fa270a1cdcd870846360dc1e830d8eb8afd498",
    "execution": {
     "iopub.execute_input": "2021-11-11T10:01:40.844756Z",
     "iopub.status.busy": "2021-11-11T10:01:40.843255Z",
     "iopub.status.idle": "2021-11-11T10:01:40.945942Z"
    }
   },
   "outputs": [],
   "source": [
    "# FsizeD\n",
    "full$FsizeD[full$Fsize == 1] <- 'Alone'\n",
    "full$FsizeD[full$Fsize < 5 & full$Fsize > 1] <- 'Small'\n",
    "full$FsizeD[full$Fsize > 4] <- 'Big'\n",
    "\n",
    "mosaicplot(table(full$FsizeD, full$Survived), main='FsizeD vs Survived', ylab=\"Survived\",xlab=\"FsizeD\",col = hcl(c(50, 120)),)"
   ]
  },
  {
   "cell_type": "markdown",
   "metadata": {
    "_cell_guid": "74f3059d-e6c8-2325-e0da-e72068e6e903",
    "_uuid": "d24959ea4027bcd576f6e019d26768113e17f04d"
   },
   "source": [
    "**3.3. Processing Embarked** (Replace missing values by most common value = S)"
   ]
  },
  {
   "cell_type": "code",
   "execution_count": 15,
   "metadata": {
    "_cell_guid": "d91bd53c-2cf4-cbb7-bf74-fb13d3ab996a",
    "_uuid": "d56d64240b6d227392a0b7558cbc7a4a6104d02c",
    "execution": {
     "iopub.execute_input": "2021-11-11T10:01:40.950037Z",
     "iopub.status.busy": "2021-11-11T10:01:40.948360Z",
     "iopub.status.idle": "2021-11-11T10:01:41.733346Z"
    }
   },
   "outputs": [],
   "source": [
    "#________________________________Embarked______________________________________\n",
    "# 2 missing datas : input S\n",
    "full[c(62, 830), 'Embarked']\n",
    "\n",
    "full$Embarked[c(62, 830)] <- 'S'\n",
    "\n",
    "ggplot(full[1:891,], aes(Pclass, fill = factor(Survived))) + \n",
    "  geom_bar(stat = \"count\")+\n",
    "  theme_few() +\n",
    "  xlab(\"Pclass\") +\n",
    "  ylab(\"Count\") +\n",
    "  facet_wrap(~Embarked) + \n",
    "  scale_fill_discrete(name = \"Survived\") + \n",
    "  ggtitle(\"Embarked vs Pclass vs Survived\")"
   ]
  },
  {
   "cell_type": "markdown",
   "metadata": {
    "_cell_guid": "8faf987d-f4b5-9e00-5f96-c658c6f3f4b7",
    "_uuid": "19bf8c0dbb435752e25253ee27f11007dcb7f5d5"
   },
   "source": [
    "**3.4. Processing Fare** (Replace missing value by Pclass = 3 's median)"
   ]
  },
  {
   "cell_type": "code",
   "execution_count": 16,
   "metadata": {
    "_cell_guid": "9154c821-42c9-345f-cf6c-60a9306b2f8f",
    "_uuid": "94b4ebf58dacb57563f37b3388860d062fba7944",
    "execution": {
     "iopub.execute_input": "2021-11-11T10:01:41.736680Z",
     "iopub.status.busy": "2021-11-11T10:01:41.735192Z",
     "iopub.status.idle": "2021-11-11T10:01:42.118912Z"
    }
   },
   "outputs": [],
   "source": [
    "#_________________________________Fare_________________________________________ \n",
    "\n",
    "full[1044, ]\n",
    "\n",
    "ggplot(full[full$Pclass == '3', ], \n",
    "       aes(x = Fare)) +\n",
    "  geom_density(fill = 'lightgrey', alpha=0.4) + \n",
    "  geom_vline(aes(xintercept=median(Fare, na.rm=T)),\n",
    "             colour='darkred', linetype='dashed', lwd=1) +\n",
    "  xlab('Fare') +\n",
    "  ggtitle(\"Pclass = 3\")+\n",
    "  ylab(\"Density\") +\n",
    "  scale_x_continuous(labels=dollar_format()) +\n",
    "  theme_few()\n",
    "\n",
    "full$Fare[1044] <- median(full[full$Pclass == '3', ]$Fare, na.rm = TRUE)"
   ]
  },
  {
   "cell_type": "markdown",
   "metadata": {
    "_cell_guid": "b41d5322-c0b8-acc3-4a2f-8fec83a2a57e",
    "_uuid": "48d756ef9a57f0105de7c81d7384edf03b893311"
   },
   "source": [
    "**3.5. Processing Age** (Replace missing values by Title's median)"
   ]
  },
  {
   "cell_type": "code",
   "execution_count": 17,
   "metadata": {
    "_cell_guid": "6d790d52-d523-7d99-bbf9-f7bcea2d122e",
    "_uuid": "decdeaf58671721fbf37d9cbd9ebbc7ee2928a66",
    "execution": {
     "iopub.execute_input": "2021-11-11T10:01:42.121172Z",
     "iopub.status.busy": "2021-11-11T10:01:42.119687Z",
     "iopub.status.idle": "2021-11-11T10:01:42.162337Z"
    }
   },
   "outputs": [],
   "source": [
    "title.age <- aggregate(full$Age,by = list(full$Title), FUN = function(x) median(x, na.rm = T))\n",
    "\n",
    "full[is.na(full$Age), \"Age\"] <- apply(full[is.na(full$Age), ] , 1, function(x) title.age[title.age[, 1]==x[\"Title\"], 2])\n",
    "\n",
    "#Na value count\n",
    "sum(is.na(full$Age))"
   ]
  },
  {
   "cell_type": "markdown",
   "metadata": {
    "_cell_guid": "f4442d68-b899-f1f3-cd2a-c9a1a75939e3",
    "_uuid": "e3a1f6499ec293dac2c8b34f7b6d8f7af185a8e1"
   },
   "source": [
    "**3.6. New Variable : Child** (From Age)"
   ]
  },
  {
   "cell_type": "code",
   "execution_count": 18,
   "metadata": {
    "_cell_guid": "cf4e203b-cd2a-a4d3-fd2b-9e0a4ecadfd7",
    "_uuid": "032d695909ba6e4fe433d0144b88d1624a1ffd22",
    "execution": {
     "iopub.execute_input": "2021-11-11T10:01:42.166152Z",
     "iopub.status.busy": "2021-11-11T10:01:42.164696Z",
     "iopub.status.idle": "2021-11-11T10:01:42.757105Z"
    }
   },
   "outputs": [],
   "source": [
    "#__________________________________Child__________________________________________\n",
    "\n",
    "full$Child[full$Age < 18] <- 'Child'\n",
    "full$Child[full$Age >= 18] <- 'Adult'\n",
    "\n",
    "ggplot(full[1:891,][full[1:891,]$Child == 'Child', ], aes(Sex, fill = factor(Survived))) + \n",
    "  geom_bar(stat = \"count\") + \n",
    "  xlab(\"Sex\") +\n",
    "  ylab(\"Count\") +\n",
    "  facet_wrap(~Pclass)+\n",
    "  scale_fill_discrete(name = \"Survived\") +\n",
    "  ggtitle(\"Child vs Sex vs Pclass vs Survived\")+\n",
    "  theme_few()\n",
    "\n",
    "table(full$Child, full$Survived)"
   ]
  },
  {
   "cell_type": "markdown",
   "metadata": {
    "_cell_guid": "1621886f-bb23-9cd8-ed48-5dacf7e9ad39",
    "_uuid": "f400bce2a772174df1e66ee4ca1fdf8d8532f22e"
   },
   "source": [
    "**3.7. Correlogram Matrix (for fun) ** "
   ]
  },
  {
   "cell_type": "code",
   "execution_count": 19,
   "metadata": {
    "_cell_guid": "167ff543-4ab1-d799-a0b9-757f765180d4",
    "_uuid": "0fb614ada3083562bd7df99f88aafecb25eafd60",
    "execution": {
     "iopub.execute_input": "2021-11-11T10:01:42.764665Z",
     "iopub.status.busy": "2021-11-11T10:01:42.762791Z",
     "iopub.status.idle": "2021-11-11T10:01:42.808677Z"
    }
   },
   "outputs": [],
   "source": [
    "#____________________________Correlogram__________________________\n",
    "corr_data <- full[1:891,]\n",
    "\n",
    "## transform to numeric type and recodification\n",
    "corr_data$Embarked <- revalue(corr_data$Embarked, \n",
    "                                  c(\"S\" = 1, \"Q\" = 2, \"C\" = 3))\n",
    "corr_data$Sex <- revalue(corr_data$Sex, \n",
    "                              c(\"male\" = 1, \"female\" = 2))\n",
    "corr_data$Title <- revalue(corr_data$Title, \n",
    "                           c(\"Mr\" = 1, \"Master\" = 2,\"Officer\" = 3, \n",
    "                             \"Mrs\" = 4,\"Royalty\" = 5,\"Miss\" = 6))\n",
    "corr_data$FsizeD <- revalue(corr_data$FsizeD, \n",
    "                         c(\"Small\" = 1, \"Alone\" = 2, \"Big\" = 3))\n",
    "corr_data$Child <- revalue(corr_data$Child, \n",
    "                            c(\"Adult\" = 1, \"Child\" = 2))\n",
    "corr_data$FsizeD <- as.numeric(corr_data$FsizeD)\n",
    "corr_data$Child <- as.numeric(corr_data$Child)\n",
    "corr_data$Sex <- as.numeric(corr_data$Sex)\n",
    "corr_data$Embarked <- as.numeric(corr_data$Embarked)\n",
    "corr_data$Title <- as.numeric(corr_data$Title)\n",
    "corr_data$Pclass <- as.numeric(corr_data$Pclass)\n",
    "corr_data$Survived <- as.numeric(corr_data$Survived)\n",
    "\n",
    "corr_data <-corr_data[,c(\"Survived\", \"Pclass\", \"Sex\", \n",
    "               \"FsizeD\", \"Fare\", \"Embarked\",\"Title\",\"Child\")]\n",
    "\n",
    "str(corr_data)"
   ]
  },
  {
   "cell_type": "code",
   "execution_count": 20,
   "metadata": {
    "_cell_guid": "e128e34f-7025-d6d9-6bc5-fd06de24b4d0",
    "_uuid": "b6151697775917f3fe4d8834932d55166011c449",
    "execution": {
     "iopub.execute_input": "2021-11-11T10:01:42.813107Z",
     "iopub.status.busy": "2021-11-11T10:01:42.811519Z",
     "iopub.status.idle": "2021-11-11T10:01:42.976437Z"
    }
   },
   "outputs": [],
   "source": [
    "mcorr_data <- cor(corr_data)\n",
    "\n",
    "corrplot(mcorr_data,method=\"circle\")"
   ]
  },
  {
   "cell_type": "code",
   "execution_count": 21,
   "metadata": {
    "_cell_guid": "9732ec56-3dbd-b666-7284-2883bd31feb7",
    "_uuid": "85ebb2907fe8fa811680293d3b72a895b3a06417",
    "execution": {
     "iopub.execute_input": "2021-11-11T10:01:42.979172Z",
     "iopub.status.busy": "2021-11-11T10:01:42.977839Z",
     "iopub.status.idle": "2021-11-11T10:01:43.000478Z"
    }
   },
   "outputs": [],
   "source": [
    "#_________________________________Factor__________________________________________\n",
    "\n",
    "full$Child  <- factor(full$Child)\n",
    "full$Sex  <- factor(full$Sex)\n",
    "full$Embarked  <- factor(full$Embarked)\n",
    "full$Title  <- factor(full$Title)\n",
    "full$Pclass  <- factor(full$Pclass)\n",
    "full$FsizeD  <- factor(full$FsizeD)\n",
    "\n",
    "#___________________________Data without Cabin & Ticket __________________________\n",
    "\n",
    "full1 <- full[,-9]\n",
    "full_mod <- full1[,-10]"
   ]
  },
  {
   "cell_type": "markdown",
   "metadata": {
    "_cell_guid": "c8e3e641-6c22-22cd-4523-e01db86b375d",
    "_uuid": "cd69cd02e670d3046ffa1fc10271c8e0bb658e03"
   },
   "source": [
    "**4. Modeling with Random Forest**\n",
    "------------------------------"
   ]
  },
  {
   "cell_type": "markdown",
   "metadata": {
    "_cell_guid": "8d0d1950-5f7d-1386-53f8-4aac913ddd02",
    "_uuid": "5769b23f815b7a9989829580c3dc9d3119eddf8b"
   },
   "source": [
    "**4.1. Modeling** full_mod[1 : 891]"
   ]
  },
  {
   "cell_type": "code",
   "execution_count": 22,
   "metadata": {
    "_cell_guid": "9d9d67a5-44d6-571e-809b-46675b592631",
    "_uuid": "cabf72a7bb5dad978cc7a2c44567e570e10e7074",
    "execution": {
     "iopub.execute_input": "2021-11-11T10:01:43.004720Z",
     "iopub.status.busy": "2021-11-11T10:01:43.002822Z",
     "iopub.status.idle": "2021-11-11T10:01:43.497511Z"
    }
   },
   "outputs": [],
   "source": [
    "#______________________________________________________________________________\n",
    "#_____________________________Modeling + predict_______________________________\n",
    "#______________________________________________________________________________\n",
    "\n",
    "# Split full_mod\n",
    "train <- full_mod[1:891,]\n",
    "test <- full_mod[892:1309,]\n",
    "\n",
    "# random forest\n",
    "library('randomForest')\n",
    "\n",
    "set.seed(123)\n",
    "rf_model <- randomForest(factor(Survived) ~ Pclass + Sex + Fare + Embarked + Title + \n",
    "                           FsizeD + Child, data = train)"
   ]
  },
  {
   "cell_type": "markdown",
   "metadata": {
    "_uuid": "69633751726ed76f48f93056129576e4c44bb660"
   },
   "source": [
    "**4.2. Confusion Matri**"
   ]
  },
  {
   "cell_type": "code",
   "execution_count": 23,
   "metadata": {
    "_cell_guid": "726501b0-7fab-9b11-87b6-a5b2bd8a3638",
    "_uuid": "15a03034092185c9a50433823263c06ce39ede58",
    "execution": {
     "iopub.execute_input": "2021-11-11T10:01:43.502633Z",
     "iopub.status.busy": "2021-11-11T10:01:43.500238Z",
     "iopub.status.idle": "2021-11-11T10:01:43.546156Z"
    }
   },
   "outputs": [],
   "source": [
    "# prediction\n",
    "rf.fitted = predict(rf_model)\n",
    "ans_rf = rep(NA,891)\n",
    "for(i in 1:891){\n",
    "  ans_rf[i] = as.integer(rf.fitted[[i]]) - 1\n",
    "}\n",
    "# Résultat\n",
    "table(ans_rf)\n",
    "\n",
    "print(rf_model)"
   ]
  },
  {
   "cell_type": "markdown",
   "metadata": {
    "_cell_guid": "4481347c-60e5-279b-5e2c-c935d7d9f38b",
    "_uuid": "da35ea7c4e0f3c88ea966e9c4c31d217b5efe9fb"
   },
   "source": [
    "**5. Prediction**\n",
    "-------------"
   ]
  },
  {
   "cell_type": "markdown",
   "metadata": {
    "_cell_guid": "dcae3068-c723-5ac4-1152-8e43efe80207",
    "_uuid": "3b577277b278fb95b8472067747eba8c1d511d15"
   },
   "source": [
    "**5.1. Prediction .csv**"
   ]
  },
  {
   "cell_type": "code",
   "execution_count": 24,
   "metadata": {
    "_cell_guid": "992fbc57-761a-c5a6-3e3a-0463086e2bba",
    "_uuid": "9089b2fbcb15f07b97e32ca7df3aaef85425ae42",
    "execution": {
     "iopub.execute_input": "2021-11-11T10:01:43.550069Z",
     "iopub.status.busy": "2021-11-11T10:01:43.548490Z",
     "iopub.status.idle": "2021-11-11T10:01:43.746303Z"
    }
   },
   "outputs": [],
   "source": [
    "prediction <- predict(rf_model, test)\n",
    "\n",
    "# Solution 2 columns (prediction)\n",
    "solution <- data.frame(Survived = prediction, PassengerID = test$PassengerId)\n",
    "\n",
    "# .csv\n",
    "write.csv(solution, file = 'rf_model_sol.csv', row.names = F)"
   ]
  },
  {
   "cell_type": "markdown",
   "metadata": {
    "_cell_guid": "0bc61ea8-6799-d80c-afca-bc0de06b5eb7",
    "_uuid": "98e641c2c0c04b875f2b234b7d84cc1fe97f2e81"
   },
   "source": [
    "**5.2. OOB Error and Gini**"
   ]
  },
  {
   "cell_type": "code",
   "execution_count": 25,
   "metadata": {
    "_cell_guid": "232a3eb3-d39c-0417-f941-99b4fa3f0168",
    "_uuid": "bafafbb8b50115ad720238e81128d73ff7868066",
    "execution": {
     "iopub.execute_input": "2021-11-11T10:01:43.750186Z",
     "iopub.status.busy": "2021-11-11T10:01:43.748654Z",
     "iopub.status.idle": "2021-11-11T10:01:43.853196Z"
    }
   },
   "outputs": [],
   "source": [
    "# Error\n",
    "plot(rf_model, ylim=c(0,0.36), main = 'RF_MODEL')\n",
    "legend('topright', colnames(rf_model$err.rate), col=1:3, fill=1:3)"
   ]
  },
  {
   "cell_type": "code",
   "execution_count": 26,
   "metadata": {
    "_cell_guid": "c64e1985-3927-4b56-9764-704d2e5bf683",
    "_uuid": "6539d6172103d24ec084cf216a6b44cf36600b78",
    "execution": {
     "iopub.execute_input": "2021-11-11T10:01:43.855085Z",
     "iopub.status.busy": "2021-11-11T10:01:43.853891Z",
     "iopub.status.idle": "2021-11-11T10:01:44.242202Z"
    }
   },
   "outputs": [],
   "source": [
    "# Var importantes\n",
    "importance    <- importance(rf_model)\n",
    "varImportance <- data.frame(Variables = row.names(importance), \n",
    "                            Importance = round(importance[ ,'MeanDecreaseGini'],2))\n",
    "\n",
    "# var imp\n",
    "rankImportance <- varImportance %>%\n",
    "  mutate(Rank = paste0('#',dense_rank(desc(Importance))))\n",
    "\n",
    "# Graph var importantes\n",
    "ggplot(rankImportance, aes(x = reorder(Variables, Importance), \n",
    "                           y = Importance, fill = Importance)) +\n",
    "  geom_bar(stat='identity') + \n",
    "  geom_text(aes(x = Variables, y = 0.5, label = Rank),\n",
    "            hjust=0, vjust=0.55, size = 4, colour = 'red') +\n",
    "  labs(x = 'Variables') +\n",
    "  coord_flip() + \n",
    "  theme_few()"
   ]
  },
  {
   "cell_type": "markdown",
   "metadata": {
    "_cell_guid": "04f1bac0-619a-c709-9930-bb0d01517673",
    "_uuid": "e3228a2720802266e7f234fa04509ba5b39a5ea4"
   },
   "source": [
    "**6. Accuracy**\n",
    "-------------"
   ]
  },
  {
   "cell_type": "markdown",
   "metadata": {
    "_cell_guid": "88d372a7-f968-bc33-4d99-389a96d07fa1",
    "_uuid": "ca24715491efd1e29557a926a9aa6aba50854ff1"
   },
   "source": [
    "----------\n",
    "\n",
    "\n",
    "**RF_MODEL : 0.8282828** full_mod[1:891]\n",
    "\n",
    "\n",
    "----------\n",
    "\n",
    "\n",
    "\n",
    "**RF_MODEL_TEST : 0.8181818** full_mod[892:1309]\n",
    "\n",
    "\n",
    "----------\n"
   ]
  }
 ],
 "metadata": {
  "_change_revision": 0,
  "_is_fork": false,
  "kernelspec": {
   "display_name": "R",
   "language": "R",
   "name": "ir"
  },
  "language_info": {
   "codemirror_mode": "r",
   "file_extension": ".r",
   "mimetype": "text/x-r-source",
   "name": "R",
   "pygments_lexer": "r",
   "version": "3.4.2"
  }
 },
 "nbformat": 4,
 "nbformat_minor": 4
}
